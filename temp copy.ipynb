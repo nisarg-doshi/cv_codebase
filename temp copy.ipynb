{
 "cells": [
  {
   "cell_type": "code",
   "execution_count": 1,
   "metadata": {},
   "outputs": [],
   "source": [
    "import os\n",
    "\n",
    "def create_folders(parent_dir, folder_names):\n",
    "    for folder_name in folder_names:\n",
    "        folder_path = os.path.join(parent_dir, folder_name)\n",
    "        os.makedirs(folder_path, exist_ok=True)\n",
    "\n",
    "# Example usage:\n",
    "parent_directory = \"/Users/vamshikumar/Desktop/LLM/CVEXPERT/cv_codebase\"\n",
    "folder_names_list = [ \"Object Detection\",\n",
    "\"Object Segmentation\",\n",
    "\"Image Classification\",\n",
    "\"Image Preprocessing\",\n",
    "\"Optical Character Recognition\",\n",
    "\"Object_Tracking\",\n",
    "\"Pose Estimation\",\n",
    "\"Keypoint Detection\",\n",
    "\"Background Subtraction\",\n",
    "\"Image Enhancement\",\n",
    "\"Image Similarity\",\n",
    "\"Video Classification\",\n",
    "\"Image Generation\",\n",
    "\"Motion Detection\",\n",
    "\"Optical Flow\"]\n",
    "\n",
    "create_folders(parent_directory, folder_names_list)"
   ]
  },
  {
   "cell_type": "code",
   "execution_count": 7,
   "metadata": {},
   "outputs": [
    {
     "data": {
      "text/plain": [
       "20"
      ]
     },
     "execution_count": 7,
     "metadata": {},
     "output_type": "execute_result"
    }
   ],
   "source": [
    "parent_directory = \"/Users/vamshikumar/Desktop/LLM/CVEXPERT/Computer-Vision-Codebase\"\n",
    "len(os.listdir(parent_directory))"
   ]
  },
  {
   "cell_type": "code",
   "execution_count": 8,
   "metadata": {},
   "outputs": [
    {
     "data": {
      "text/plain": [
       "['Image Classification',\n",
       " '.DS_Store',\n",
       " 'Optical Flow',\n",
       " 'Object_Tracking',\n",
       " 'Image Generation',\n",
       " 'Pose Estimation',\n",
       " 'README.md',\n",
       " 'temp.ipynb',\n",
       " 'Background Subtraction',\n",
       " 'Video Classification',\n",
       " 'Image Preprocessing',\n",
       " 'empty_file.py',\n",
       " 'Image Enhancement',\n",
       " 'Image Similarity',\n",
       " '.git',\n",
       " 'Optical Character Recognition',\n",
       " 'Object Detection',\n",
       " 'Motion Detection',\n",
       " 'Object Segmentation',\n",
       " 'Keypoint Detection']"
      ]
     },
     "execution_count": 8,
     "metadata": {},
     "output_type": "execute_result"
    }
   ],
   "source": [
    "os.listdir(parent_directory)"
   ]
  },
  {
   "cell_type": "code",
   "execution_count": 9,
   "metadata": {},
   "outputs": [],
   "source": [
    "import os\n",
    "\n",
    "def create_folders(parent_dir, folder_names):\n",
    "    for folder_name in folder_names:\n",
    "        folder_path = os.path.join(parent_dir, folder_name)\n",
    "        os.makedirs(folder_path, exist_ok=True)\n",
    "\n",
    "# Example usage:\n",
    "parent_directory = \"/Users/vamshikumar/Desktop/LLM/CVEXPERT/Computer-Vision-Codebase/Object Segmentation/YOLOv8\"\n",
    "folder_names_list = [\"YOLOv8n\", \"YOLOv8s\", \"YOLOv8m\", \"YOLOv8l\", \"YOLOv8x\"]\n",
    "\n",
    "create_folders(parent_directory, folder_names_list)"
   ]
  },
  {
   "cell_type": "code",
   "execution_count": 2,
   "metadata": {},
   "outputs": [],
   "source": [
    "import os\n",
    "import glob\n",
    "\n",
    "def create_empty_files_in_directories(parent_dir, file_name):\n",
    "    # Get all directories recursively\n",
    "    directories = glob.glob(os.path.join(parent_dir, \"**/\"), recursive=True)\n",
    "    \n",
    "    # Iterate over each directory\n",
    "    for directory in directories:\n",
    "        # Ignore the parent directory itself\n",
    "        if directory != parent_dir:\n",
    "            file_path = os.path.join(directory, file_name + \".py\")\n",
    "            with open(file_path, \"w\") as file:\n",
    "                pass  # Empty file\n",
    "\n",
    "# Example usage:\n",
    "parent_directory = \"/Users/vamshikumar/Desktop/LLM/CVEXPERT/cv_codebase\"\n",
    "file_name = \"empty_file\"\n",
    "\n",
    "create_empty_files_in_directories(parent_directory, file_name)\n"
   ]
  },
  {
   "cell_type": "code",
   "execution_count": null,
   "metadata": {},
   "outputs": [],
   "source": []
  }
 ],
 "metadata": {
  "kernelspec": {
   "display_name": "Python 3",
   "language": "python",
   "name": "python3"
  },
  "language_info": {
   "codemirror_mode": {
    "name": "ipython",
    "version": 3
   },
   "file_extension": ".py",
   "mimetype": "text/x-python",
   "name": "python",
   "nbconvert_exporter": "python",
   "pygments_lexer": "ipython3",
   "version": "3.9.18"
  }
 },
 "nbformat": 4,
 "nbformat_minor": 2
}
